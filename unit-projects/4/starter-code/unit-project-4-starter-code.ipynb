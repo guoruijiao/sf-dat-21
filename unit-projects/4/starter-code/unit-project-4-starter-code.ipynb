{
 "cells": [
  {
   "cell_type": "markdown",
   "metadata": {},
   "source": [
    "# SF-DAT-21 | Unit Project 4\n",
    "\n",
    "In this project, you will summarize and present your analysis from Unit Projects 1-3."
   ]
  },
  {
   "cell_type": "markdown",
   "metadata": {},
   "source": [
    "### Question 1. Introduction: Write a problem Statement/Specific Aim for this project."
   ]
  },
  {
   "cell_type": "markdown",
   "metadata": {},
   "source": [
    "Answer:\n",
    "* In this project, we aim to estimate the effects of gre, gpa and prestige on the admission of graduate school and use the model to predict admission. \n",
    "* Intuitively, students with higher gre, gpa, and graduated from more prestigious school will have a better chance to ge admitted. \n",
    "* The dataset includes 400 observations during the perior of Jan/2015 to Apr/2015. \n",
    "* Since the dependent variable is categorical with two levels - yes and no, we use classification methods. "
   ]
  },
  {
   "cell_type": "markdown",
   "metadata": {},
   "source": [
    "### Question 2. Dataset: Write up a description of your data and any cleaning that was completed."
   ]
  },
  {
   "cell_type": "markdown",
   "metadata": {},
   "source": [
    "Answer:\n",
    "* The dataset includes 400 observations with information of gre, gpa, prestige and admission or not. There are 2 missing values on gre, 2 on gpa, 1 on prestige.\n",
    "* Dupl\n",
    "icates: 5 duplicates were found. However, I didn't remove these 5 duplicates since it's possible to have few duplicates. To decide if we should remove these, we should have more information. \n",
    "* Missing values:\n",
    "    * The rows were removed due to three missing values(listwise deletion). Ultimately, the dataset includes 397 observations. \n",
    "    * We can also use average value to replace the missing values so we can retain as more observation as possible. However, the sample size in this case is large enough so it won't affect the results using listwise deletion. \n",
    "    * A model can be estimated on each dataset to compare the difference the results. \n",
    "* Variables:\n",
    "    * Dependent Varible:\n",
    "        * Admission or not: Among 397 students, 127 students(about one third) were admitted by graduate school. Based on the following table, we can see that, on average, students admitted have higher gre and gpa scores but are from less prestigious college. \n",
    "    * Independent Variables:\n",
    "        * gre: continuous and relatively normally distributed since mean is close to median. \n",
    "        * gpa: continuous and relatively normally distributed since mean is very close to median. \n",
    "        * prestige: most students are in level 2 and 3. The cell numbers are all greater than 5 so we don't have to worry about assumption violation according this rule of thrumb. \n",
    "    \n",
    "|admit|gre|gpa|prestige|  \n",
    "|---|-----|-----|--------|  \n",
    "|0\t|573.58\t|3.35\t|2.65   |  \n",
    "|1\t|618.57\t|3.49\t|2.15   |  \n",
    "\n",
    "\n",
    "|admit |gre\t|gpa\t|prestige|\n",
    "|------|----|-------|--------|\n",
    "|0\t|116.05\t|0.38\t|0.92|\n",
    "|1\t|109.26\t|0.37\t|0.92|\n",
    "\n",
    "        \n",
    "|admit/prestige\t|0|\t1|\n",
    "|---------------|-|--|\n",
    "|1\t|28\t|33|\n",
    "|2\t|95\t|53|\n",
    "|3\t|93\t|28|\n",
    "|4\t|55\t|12|\n",
    "\n",
    "\t\n",
    "|admit/prestige\t|0\t|1|\n",
    "|---------------|---|-|\n",
    "|1\t|0.07\t|0.08|\n",
    "|2\t|0.24\t|0.13|\n",
    "|3\t|0.23\t|0.07|\n",
    "|4\t|0.14\t|0.03|\n",
    "\n",
    "* Correlation: correlations among independent variables are relatively weak so we don't have to worry about multicollinearity problem. \n",
    "* The dataset is pretty clean and no transformation is needed so far. All variables can be and are supposed to be kept. "
   ]
  },
  {
   "cell_type": "markdown",
   "metadata": {
    "collapsed": true
   },
   "source": [
    "### Question 3. Demo: Provide a table that explains the data by admission status."
   ]
  },
  {
   "cell_type": "markdown",
   "metadata": {},
   "source": [
    "Mean (STD) or counts by admission status for each variable\n",
    "* I assume the percentage here is cell percentage rather than marginal percentage.\n",
    "* From the table below, we can see both GRE and GPA of the admitted are higher. Therefore, we expect the coefficients on GRE and GPA are positive. But the adds of being admitted are deacreasing as the school ranks decreases. \n",
    "\n",
    "| Not Admitted | Admitted\n",
    "---| ---|---\n",
    "GPA | 3.35(0.38) | 3.49(0.37)\n",
    "GRE |573(116) | 618(109)\n",
    "Prestige 1 | 7 (%) | 8 (%)\n",
    "Prestige 2 | 24 (%) | 13 (%)\n",
    "Prestige 3 | 23 (%) | 7 (%)\n",
    "Prestige 4 | 14 (%) | 3 (%)"
   ]
  },
  {
   "cell_type": "markdown",
   "metadata": {},
   "source": [
    "### Question 4. Methods: Write up the methods used in your analysis."
   ]
  },
  {
   "cell_type": "markdown",
   "metadata": {},
   "source": [
    "Answer:\n",
    "* Since the dependent variable is categorical with two levels, I chose to use logistic regression. Specifically, a logistic regression is run on admission with GRE, GPA, and levels of prestige as predictors. \n",
    "* Other classification methods, such as KNN and SVM can also be used. "
   ]
  },
  {
   "cell_type": "markdown",
   "metadata": {},
   "source": [
    "### Question 5. Results: Write up your results."
   ]
  },
  {
   "cell_type": "markdown",
   "metadata": {},
   "source": [
    "Answer:\n",
    "* Coefficients and Significance: Only GRE score has statistically significant positive effects on Admission. Although GPA has positive effects on admission the effect is not significant based on the p-value using statsmodel. Prestige has positive effects on adimission as well. Students graduated from undergraduate schools with higher rank of prestige (rank #1) are morely likely to be admitted. \n",
    "* Model fit: The precision is 71%, which means 71% observations are correctly classified into the right class. "
   ]
  },
  {
   "cell_type": "markdown",
   "metadata": {},
   "source": [
    "### Question 6. Visuals: Provide a table or visualization of these results."
   ]
  },
  {
   "cell_type": "markdown",
   "metadata": {},
   "source": [
    "|----|coef|std err|z|P_value|[95.0% Conf. Int.]|  \n",
    "|----|-------|-|-------|------------------|  \n",
    "|intercept|\t-3.8769|\t1.142|\t-3.393|\t0.001|\t-6.116, -1.638|  \n",
    "|gre|\t0.0022|\t0.001|\t2.028|\t0.043|\t7.44e-05, 0.004|  \n",
    "|gpa|\t0.7793|\t0.333|\t2.344|\t0.019|\t0.128, 1.431|  \n",
    "|prestige_2.0|\t-0.6801|\t0.317|\t-2.146|\t0.032|\t-1.301, -0.059|  \n",
    "|prestige_3.0|\t-1.3387|\t0.345|\t-3.882|\t0.000|\t-2.015, -0.663|  \n",
    "|prestige_4.0|\t-1.5534|\t0.417|\t-3.721|\t0.000|\t-2.372, -0.735|  "
   ]
  },
  {
   "cell_type": "markdown",
   "metadata": {},
   "source": [
    "<img src='assets/admission.png' height= 25% width= 25%>"
   ]
  },
  {
   "cell_type": "markdown",
   "metadata": {},
   "source": [
    "### question 7. Discussion: Write up your discussion and future steps."
   ]
  },
  {
   "cell_type": "markdown",
   "metadata": {},
   "source": [
    "Answer:\n",
    "* Overall, my results suggest that gre score will significantly affect the chance of being admitted. Also, the odds being admitted are higher for students graduated from higher ranked undergraduate schools. \n",
    "* future steps:\n",
    "    * cross valications must be done to check the model fit. "
   ]
  }
 ],
 "metadata": {
  "kernelspec": {
   "display_name": "Python 2",
   "language": "python",
   "name": "python2"
  },
  "language_info": {
   "codemirror_mode": {
    "name": "ipython",
    "version": 2
   },
   "file_extension": ".py",
   "mimetype": "text/x-python",
   "name": "python",
   "nbconvert_exporter": "python",
   "pygments_lexer": "ipython2",
   "version": "2.7.11"
  }
 },
 "nbformat": 4,
 "nbformat_minor": 0
}
