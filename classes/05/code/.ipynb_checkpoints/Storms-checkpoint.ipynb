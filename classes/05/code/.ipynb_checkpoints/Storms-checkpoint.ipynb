{
 "cells": [
  {
   "cell_type": "markdown",
   "metadata": {},
   "source": [
    "# SF-DAT-21 | Lab 05: Storms, `pandas`, and GitHub"
   ]
  },
  {
   "cell_type": "markdown",
   "metadata": {},
   "source": [
    "## OJECTIVES"
   ]
  },
  {
   "cell_type": "markdown",
   "metadata": {},
   "source": [
    "This session closes the course's first unit: \"Research Design and Data Analysis\" in which we covered important building blocks for performing data science work:\n",
    "- Research Design\n",
    "- Data Manipulation, dataset tidying and Exploratory Data Analysis with `pandas`\n",
    "- Statistics and Visualization with `pandas`\n",
    "\n",
    "Starting with the next session, we will shift our attention to building predictive models.  However, the skills you've learned so far will prove to be very fruitful as a data scientist (e.g., mastering tidying data will save you hours of time and make your data much easier to work on).  This lab gives you an opportunity to put into practice all these concepts."
   ]
  },
  {
   "cell_type": "markdown",
   "metadata": {},
   "source": [
    "## BACKGROUND"
   ]
  },
  {
   "cell_type": "markdown",
   "metadata": {},
   "source": [
    "Severe weather events cause public health and economic problems, many resulting in fatalities, injuries, and property/crop damage.  Preventing such outcomes to the extent possible is a key concern.\n",
    "\n",
    "Using the U.S. National Oceanic and Atmospheric Administration's (NOAA) storm database (in the `datasets` folder alongside some documentation), which tracked characteristics of major weather events in the United States from 1950 to 2011, you will study and report what types of events cause most of the fatalities, injuries, and economic damages."
   ]
  },
  {
   "cell_type": "markdown",
   "metadata": {},
   "source": [
    "## PROMPT"
   ]
  },
  {
   "cell_type": "markdown",
   "metadata": {},
   "source": [
    "You'll work in group of 4 (no less) to 5 (no more), collaborate using git, GitHub, and the SF-DAT-21-students remote repository here: https://github.com/paspeur/SF-DAT-21-students\n",
    "\n",
    "Specifically:\n",
    "- Do individual work inside the directory named after your GitHub username.  This means copying this iPython Notebook (just this notebook `Storm.ipnb`) in your directory.  Commit and push your changes regularly.  (We'll go over it in class)\n",
    "- Name your team and have one person in your team to create a new directory at the root of the repository in the form `class-05-XXX`.  Copy over there this notebook.\n",
    "- How exactly you collaborate among yourself (as long as it works) is left for you to decide.  We are there to help you."
   ]
  },
  {
   "cell_type": "markdown",
   "metadata": {},
   "source": [
    "## DELIVERABLES"
   ]
  },
  {
   "cell_type": "markdown",
   "metadata": {},
   "source": [
    "- Your team deliverable (more below) will be the notebook in your team directory; your individual deliverable will be the notebook in your personal directory (it can be the final team notebook but I'm mostly interested in seeing you building proficiency with git/GitHub and this is one way to demonstrate)\n",
    "- Your notebook should not just be code, not text either.  I'm looking for both text and code, one supporting the other in a logical manner.\n",
    "- More specifically, I want you to approach your work following the data science workflow."
   ]
  },
  {
   "cell_type": "markdown",
   "metadata": {},
   "source": [
    "## DATA SCIENCE WORKFLOW"
   ]
  },
  {
   "cell_type": "markdown",
   "metadata": {},
   "source": [
    "[Don't read into each question too literally.  The lab is relatively open-ended; the goal is to improve the mastery of your new skills and have fun doing it.]\n",
    "\n",
    "- **1. IDENTIFY the Problem**\n",
    "  - Write a SMART research question around the vaguely following objective: \"What types of events result in most fatalities, injuries, and economic damages?\"\n",
    "\n",
    "\n",
    "- **2. ACQUIRE the Data**\n",
    "  - The raw dataset you'll work with is in the `datasets` folder (at the root of the repository) alongside some documentation\n",
    "  - Questions you might ask yourself:\n",
    "    - _What type of data is it?  (e.g., cross-sectional or longitudinal)_\n",
    "    - _How well was the data collected?_\n",
    "    - _Is there much missing data?_\n",
    "    - _Was the data collection instrument calibrated?_\n",
    "    - _Is the dataset aggregated?_\n",
    "    - _Do we need pre-aggregated data?_\n",
    "\n",
    "\n",
    "- **3. PARSE the Data**\n",
    "  - [Again, the documentation is in the `datasets` folder]\n",
    "  - You need to understand what you're working with\n",
    "  - To better understand your data\n",
    "    - _Create or review the data dictionary_\n",
    "    - _Perform exploratory surface analysis_\n",
    "    - _Describe data structure and information being collected_\n",
    "    - _Explore variables and data types_\n",
    "\n",
    "\n",
    "- **4. Mine the Data**\n",
    "  - Mine the Data\n",
    "  - Determine sampling methodology and sample data\n",
    "  - Format, clean, slice, and combine data in Python\n",
    "  - Create necessary derived columns from the data (new data)\n",
    "\n",
    "\n",
    "- **7. Present the Results**\n",
    "  - Present the Results\n",
    "  - Summarize findings with narrative, storytelling techniques\n",
    "  - Present limitations and assumptions of your analysis\n",
    "  - Identify follow up problems and questions for future analysis"
   ]
  },
  {
   "cell_type": "markdown",
   "metadata": {},
   "source": [
    "## DOCUMENTATION"
   ]
  },
  {
   "cell_type": "markdown",
   "metadata": {},
   "source": [
    "- Some documentation for the dataset is in the `datasets` folder at the root of the repository\n",
    "- `pandas` documentation: http://pandas.pydata.org/pandas-docs/stable/\n",
    "- Slides from the previous sessions..."
   ]
  },
  {
   "cell_type": "markdown",
   "metadata": {},
   "source": [
    "## IDEAS TO KEEP IN MIND"
   ]
  },
  {
   "cell_type": "markdown",
   "metadata": {},
   "source": [
    "1. The datset is big.  You might want to use a small subset to get things working before moving on to the entire dataset.\n",
    "2. Generate both tables and histograms to answer your questions.  That'll make it into a better presentation to your classmates.\n",
    "3. At some point in time, you may want to split tidying up the dataset and the exploratory data analysis into different notebooks (multiple well defined notebooks make it easier to collaborate).  You could save your cleaned up dataset into disk (it should be small at this point) and load it from the other notebook.\n",
    "4. If time allows, create a new tidy dataset reporting fatalities, injuries, and property/crop damage (min, max, median, Q1, Q3, mean, and variance) per calendar year and per state and save it as a CSV file."
   ]
  },
  {
   "cell_type": "markdown",
   "metadata": {},
   "source": [
    "## CODE TO GET YOU STARTED"
   ]
  },
  {
   "cell_type": "code",
   "execution_count": 1,
   "metadata": {
    "collapsed": true
   },
   "outputs": [],
   "source": [
    "import os\n",
    "import numpy as np\n",
    "import pandas as pd\n",
    "import matplotlib.pyplot as plt\n",
    "import csv\n",
    "\n",
    "pd.set_option('display.max_rows', 10)\n",
    "pd.set_option('display.notebook_repr_html', True)\n",
    "pd.set_option('display.max_columns', 10)\n",
    "\n",
    "%matplotlib inline\n",
    "plt.style.use('ggplot')"
   ]
  },
  {
   "cell_type": "code",
   "execution_count": null,
   "metadata": {
    "collapsed": false
   },
   "outputs": [],
   "source": [
    "df = pd.read_csv(os.path.join('..', 'datasets', 'Storms.csv.bz2'))"
   ]
  },
  {
   "cell_type": "code",
   "execution_count": null,
   "metadata": {
    "collapsed": false
   },
   "outputs": [],
   "source": [
    "df"
   ]
  },
  {
   "cell_type": "markdown",
   "metadata": {
    "collapsed": true
   },
   "source": [
    "## ALL YOURS NOW..."
   ]
  },
  {
   "cell_type": "code",
   "execution_count": null,
   "metadata": {
    "collapsed": true
   },
   "outputs": [],
   "source": []
  }
 ],
 "metadata": {
  "kernelspec": {
   "display_name": "Python 2",
   "language": "python",
   "name": "python2"
  },
  "language_info": {
   "codemirror_mode": {
    "name": "ipython",
    "version": 2
   },
   "file_extension": ".py",
   "mimetype": "text/x-python",
   "name": "python",
   "nbconvert_exporter": "python",
   "pygments_lexer": "ipython2",
   "version": "2.7.11"
  }
 },
 "nbformat": 4,
 "nbformat_minor": 0
}
