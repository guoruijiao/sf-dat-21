{
 "cells": [
  {
   "cell_type": "markdown",
   "metadata": {},
   "source": [
    "# SF-DAT-21 | Lab 09"
   ]
  },
  {
   "cell_type": "code",
   "execution_count": 197,
   "metadata": {
    "collapsed": true
   },
   "outputs": [],
   "source": [
    "import os\n",
    "import numpy as np\n",
    "import pandas as pd\n",
    "import matplotlib.pyplot as plt\n",
    "from sklearn import linear_model, cross_validation\n",
    "\n",
    "pd.set_option('display.max_rows', 10)\n",
    "pd.set_option('display.notebook_repr_html', True)\n",
    "pd.set_option('display.max_columns', 10)\n",
    "\n",
    "%matplotlib inline\n",
    "plt.style.use('ggplot')"
   ]
  },
  {
   "cell_type": "code",
   "execution_count": 198,
   "metadata": {
    "collapsed": false
   },
   "outputs": [],
   "source": [
    "df = pd.read_csv(os.path.join('..', 'datasets', 'bank-marketing.csv'))"
   ]
  },
  {
   "cell_type": "code",
   "execution_count": 199,
   "metadata": {
    "collapsed": false
   },
   "outputs": [
    {
     "data": {
      "text/html": [
       "<div>\n",
       "<table border=\"1\" class=\"dataframe\">\n",
       "  <thead>\n",
       "    <tr style=\"text-align: right;\">\n",
       "      <th></th>\n",
       "      <th>age</th>\n",
       "      <th>job</th>\n",
       "      <th>marital</th>\n",
       "      <th>education</th>\n",
       "      <th>default</th>\n",
       "      <th>...</th>\n",
       "      <th>campaign</th>\n",
       "      <th>pdays</th>\n",
       "      <th>previous</th>\n",
       "      <th>poutcome</th>\n",
       "      <th>y</th>\n",
       "    </tr>\n",
       "  </thead>\n",
       "  <tbody>\n",
       "    <tr>\n",
       "      <th>0</th>\n",
       "      <td>30</td>\n",
       "      <td>unemployed</td>\n",
       "      <td>married</td>\n",
       "      <td>primary</td>\n",
       "      <td>no</td>\n",
       "      <td>...</td>\n",
       "      <td>1</td>\n",
       "      <td>-1</td>\n",
       "      <td>0</td>\n",
       "      <td>unknown</td>\n",
       "      <td>no</td>\n",
       "    </tr>\n",
       "    <tr>\n",
       "      <th>1</th>\n",
       "      <td>33</td>\n",
       "      <td>services</td>\n",
       "      <td>married</td>\n",
       "      <td>secondary</td>\n",
       "      <td>no</td>\n",
       "      <td>...</td>\n",
       "      <td>1</td>\n",
       "      <td>339</td>\n",
       "      <td>4</td>\n",
       "      <td>failure</td>\n",
       "      <td>no</td>\n",
       "    </tr>\n",
       "    <tr>\n",
       "      <th>2</th>\n",
       "      <td>35</td>\n",
       "      <td>management</td>\n",
       "      <td>single</td>\n",
       "      <td>tertiary</td>\n",
       "      <td>no</td>\n",
       "      <td>...</td>\n",
       "      <td>1</td>\n",
       "      <td>330</td>\n",
       "      <td>1</td>\n",
       "      <td>failure</td>\n",
       "      <td>no</td>\n",
       "    </tr>\n",
       "    <tr>\n",
       "      <th>3</th>\n",
       "      <td>30</td>\n",
       "      <td>management</td>\n",
       "      <td>married</td>\n",
       "      <td>tertiary</td>\n",
       "      <td>no</td>\n",
       "      <td>...</td>\n",
       "      <td>4</td>\n",
       "      <td>-1</td>\n",
       "      <td>0</td>\n",
       "      <td>unknown</td>\n",
       "      <td>no</td>\n",
       "    </tr>\n",
       "    <tr>\n",
       "      <th>4</th>\n",
       "      <td>59</td>\n",
       "      <td>blue-collar</td>\n",
       "      <td>married</td>\n",
       "      <td>secondary</td>\n",
       "      <td>no</td>\n",
       "      <td>...</td>\n",
       "      <td>1</td>\n",
       "      <td>-1</td>\n",
       "      <td>0</td>\n",
       "      <td>unknown</td>\n",
       "      <td>no</td>\n",
       "    </tr>\n",
       "  </tbody>\n",
       "</table>\n",
       "<p>5 rows × 17 columns</p>\n",
       "</div>"
      ],
      "text/plain": [
       "   age          job  marital  education default ...  campaign pdays previous  \\\n",
       "0   30   unemployed  married    primary      no ...         1    -1        0   \n",
       "1   33     services  married  secondary      no ...         1   339        4   \n",
       "2   35   management   single   tertiary      no ...         1   330        1   \n",
       "3   30   management  married   tertiary      no ...         4    -1        0   \n",
       "4   59  blue-collar  married  secondary      no ...         1    -1        0   \n",
       "\n",
       "  poutcome   y  \n",
       "0  unknown  no  \n",
       "1  failure  no  \n",
       "2  failure  no  \n",
       "3  unknown  no  \n",
       "4  unknown  no  \n",
       "\n",
       "[5 rows x 17 columns]"
      ]
     },
     "execution_count": 199,
     "metadata": {},
     "output_type": "execute_result"
    }
   ],
   "source": [
    "df.head()"
   ]
  },
  {
   "cell_type": "markdown",
   "metadata": {},
   "source": [
    "The dataset is related to the direct marketing campaigns (by phone) of a Portuguese banking institution.  The classification goal is to predict if the client will subscribe a term deposit (variable y).\n",
    "\n",
    "Attribute Information:\n",
    "\n",
    "- Input variables:\n",
    "  - [Bank client data]\n",
    "    - `age` (numeric)\n",
    "    - `job`: type of job (categorical)\n",
    "    - `marital`: marital status (categorical)\n",
    "      - Note: `divorced` means divorced or widowed)\n",
    "    - `education` (categorical)\n",
    "    - `default`: has credit in default? (categorical)\n",
    "    - `balance`: bank account balance (\\$)\n",
    "    - `housing`: has housing loan? (categorical)\n",
    "    - `loan`: has personal loan? (categorical)\n",
    "  - [Data related with the last contact of the current campaign]\n",
    "    - `contact`: contact communication type (categorical) \n",
    "    - `month`: last contact month of year (categorical)\n",
    "    - `day_of_week`: last contact day of the week (categorical)\n",
    "    - `duration`: last contact duration, in seconds (numeric)\n",
    "      - Important note: this attribute highly affects the output target (e.g., if `duration = 0` then `y = 'no'`). Yet, the duration is not known before a call is performed.  Also, after the end of the call y is obviously known.  Thus, this input should only be included for benchmark purposes and should be discarded if the intention is to have a realistic predictive model.    \n",
    "  - [Other attributes]\n",
    "    - `campaign`: number of contacts performed during this campaign and for this client (numeric)\n",
    "    - `pdays`: number of days that passed by after the client was last contacted from a previous campaign (numeric)\n",
    "      - 999 means client was not previously contacted\n",
    "    - `previous`: number of contacts performed before this campaign and for this client (numeric)\n",
    "    - `poutcome`: outcome of the previous marketing campaign (categorical)\n",
    "\n",
    "- Output variable (desired target):\n",
    "  - `y`: has the client subscribed a term deposit? (binary)"
   ]
  },
  {
   "cell_type": "markdown",
   "metadata": {},
   "source": [
    "## Our goal is to develop a model the best predicts the outcome `y`, the success of the marketing campaign"
   ]
  },
  {
   "cell_type": "markdown",
   "metadata": {},
   "source": [
    "## Question 1: Remove the categorical variables with the most number of distinct values"
   ]
  },
  {
   "cell_type": "code",
   "execution_count": 202,
   "metadata": {
    "collapsed": false
   },
   "outputs": [
    {
     "name": "stdout",
     "output_type": "stream",
     "text": [
      "no     4000\n",
      "yes     521\n",
      "Name: y, dtype: int64\n",
      "(4521, 17)\n"
     ]
    },
    {
     "data": {
      "text/plain": [
       "Index([u'age', u'job', u'marital', u'education', u'default', u'balance',\n",
       "       u'housing', u'loan', u'contact', u'day', u'month', u'duration',\n",
       "       u'campaign', u'pdays', u'previous', u'poutcome', u'y'],\n",
       "      dtype='object')"
      ]
     },
     "execution_count": 202,
     "metadata": {},
     "output_type": "execute_result"
    }
   ],
   "source": [
    "print df.y.value_counts()\n",
    "print df.shape\n",
    "df.head(2)\n",
    "df.columns"
   ]
  },
  {
   "cell_type": "code",
   "execution_count": 186,
   "metadata": {
    "collapsed": false,
    "scrolled": false
   },
   "outputs": [
    {
     "name": "stdout",
     "output_type": "stream",
     "text": [
      "day          31\n",
      "month        12\n",
      "job          12\n",
      "poutcome      4\n",
      "education     4\n",
      "contact       3\n",
      "marital       3\n",
      "loan          2\n",
      "housing       2\n",
      "default       2\n",
      "dtype: int64\n"
     ]
    }
   ],
   "source": [
    "df_sub = df[['job','marital','education','default','housing','loan','contact','month','day','poutcome']]\n",
    "fa = lambda column: len(column.unique())\n",
    "print df_sub.apply(fa,axis=0).sort_values(ascending=False)"
   ]
  },
  {
   "cell_type": "markdown",
   "metadata": {},
   "source": [
    "Answer: the categorical variable with the most number of distinct values is 'day'. "
   ]
  },
  {
   "cell_type": "code",
   "execution_count": 203,
   "metadata": {
    "collapsed": false
   },
   "outputs": [
    {
     "name": "stdout",
     "output_type": "stream",
     "text": [
      "(4521, 16)\n",
      "Index([u'age', u'marital', u'education', u'default', u'balance', u'housing',\n",
      "       u'loan', u'contact', u'day', u'month', u'duration', u'campaign',\n",
      "       u'pdays', u'previous', u'poutcome', u'y'],\n",
      "      dtype='object')\n"
     ]
    }
   ],
   "source": [
    "df = df.drop(['job'],axis=1) ## It was supposed to be 'day' right?\n",
    "print df.shape\n",
    "print df.columns"
   ]
  },
  {
   "cell_type": "markdown",
   "metadata": {},
   "source": [
    "## Question 2: Recode all `yes`/`no` categorical variables with `0` as the most frequent value (then also append `\"_no\"` to the variable name), and `1` for the other (then leave the name unchanged)\n",
    "* default\n",
    "* housing\n",
    "* loan\n",
    "* y"
   ]
  },
  {
   "cell_type": "code",
   "execution_count": 204,
   "metadata": {
    "collapsed": false
   },
   "outputs": [
    {
     "name": "stdout",
     "output_type": "stream",
     "text": [
      "(4521, 20)\n"
     ]
    },
    {
     "data": {
      "text/html": [
       "<div>\n",
       "<table border=\"1\" class=\"dataframe\">\n",
       "  <thead>\n",
       "    <tr style=\"text-align: right;\">\n",
       "      <th></th>\n",
       "      <th>age</th>\n",
       "      <th>marital</th>\n",
       "      <th>education</th>\n",
       "      <th>default</th>\n",
       "      <th>balance</th>\n",
       "      <th>...</th>\n",
       "      <th>y</th>\n",
       "      <th>default_no</th>\n",
       "      <th>housing_no</th>\n",
       "      <th>loan_no</th>\n",
       "      <th>y_no</th>\n",
       "    </tr>\n",
       "  </thead>\n",
       "  <tbody>\n",
       "    <tr>\n",
       "      <th>0</th>\n",
       "      <td>30</td>\n",
       "      <td>married</td>\n",
       "      <td>primary</td>\n",
       "      <td>no</td>\n",
       "      <td>1787</td>\n",
       "      <td>...</td>\n",
       "      <td>no</td>\n",
       "      <td>0</td>\n",
       "      <td>1</td>\n",
       "      <td>0</td>\n",
       "      <td>0</td>\n",
       "    </tr>\n",
       "    <tr>\n",
       "      <th>1</th>\n",
       "      <td>33</td>\n",
       "      <td>married</td>\n",
       "      <td>secondary</td>\n",
       "      <td>no</td>\n",
       "      <td>4789</td>\n",
       "      <td>...</td>\n",
       "      <td>no</td>\n",
       "      <td>0</td>\n",
       "      <td>0</td>\n",
       "      <td>1</td>\n",
       "      <td>0</td>\n",
       "    </tr>\n",
       "  </tbody>\n",
       "</table>\n",
       "<p>2 rows × 20 columns</p>\n",
       "</div>"
      ],
      "text/plain": [
       "   age  marital  education default  balance ...    y default_no housing_no  \\\n",
       "0   30  married    primary      no     1787 ...   no          0          1   \n",
       "1   33  married  secondary      no     4789 ...   no          0          0   \n",
       "\n",
       "   loan_no y_no  \n",
       "0        0    0  \n",
       "1        1    0  \n",
       "\n",
       "[2 rows x 20 columns]"
      ]
     },
     "execution_count": 204,
     "metadata": {},
     "output_type": "execute_result"
    }
   ],
   "source": [
    "## find variables with 2 categories\n",
    "list_2 = [a for a in df.columns if len(df[a].unique()) == 2]\n",
    "## recode variables with 2 categories with 0 as the most frequent value(then append '_no' to the variable name)\n",
    "for a in list_2:\n",
    "    cname = '{}{}'.format(a,'_no')\n",
    "    df[cname] = df[a].apply(lambda x: 0 if x == df[a].value_counts().idxmax() else 1)\n",
    "\n",
    "print df.shape\n",
    "df.head(2)"
   ]
  },
  {
   "cell_type": "markdown",
   "metadata": {},
   "source": [
    "## Question 3: Create dummy variables for the other categorical variables\n",
    "* marital\n",
    "* education\n",
    "* contact"
   ]
  },
  {
   "cell_type": "code",
   "execution_count": 208,
   "metadata": {
    "collapsed": false
   },
   "outputs": [
    {
     "name": "stdout",
     "output_type": "stream",
     "text": [
      "3\n",
      "4\n",
      "3\n"
     ]
    }
   ],
   "source": [
    "for a in ['marital','education','contact']:\n",
    "    print len(df[a].unique())"
   ]
  },
  {
   "cell_type": "code",
   "execution_count": 205,
   "metadata": {
    "collapsed": false
   },
   "outputs": [
    {
     "name": "stdout",
     "output_type": "stream",
     "text": [
      "(4521, 30)\n"
     ]
    },
    {
     "data": {
      "text/html": [
       "<div>\n",
       "<table border=\"1\" class=\"dataframe\">\n",
       "  <thead>\n",
       "    <tr style=\"text-align: right;\">\n",
       "      <th></th>\n",
       "      <th>age</th>\n",
       "      <th>marital</th>\n",
       "      <th>education</th>\n",
       "      <th>default</th>\n",
       "      <th>balance</th>\n",
       "      <th>...</th>\n",
       "      <th>education_tertiary</th>\n",
       "      <th>education_unknown</th>\n",
       "      <th>contact_cellular</th>\n",
       "      <th>contact_telephone</th>\n",
       "      <th>contact_unknown</th>\n",
       "    </tr>\n",
       "  </thead>\n",
       "  <tbody>\n",
       "    <tr>\n",
       "      <th>0</th>\n",
       "      <td>30</td>\n",
       "      <td>married</td>\n",
       "      <td>primary</td>\n",
       "      <td>no</td>\n",
       "      <td>1787</td>\n",
       "      <td>...</td>\n",
       "      <td>0</td>\n",
       "      <td>0</td>\n",
       "      <td>1</td>\n",
       "      <td>0</td>\n",
       "      <td>0</td>\n",
       "    </tr>\n",
       "    <tr>\n",
       "      <th>1</th>\n",
       "      <td>33</td>\n",
       "      <td>married</td>\n",
       "      <td>secondary</td>\n",
       "      <td>no</td>\n",
       "      <td>4789</td>\n",
       "      <td>...</td>\n",
       "      <td>0</td>\n",
       "      <td>0</td>\n",
       "      <td>1</td>\n",
       "      <td>0</td>\n",
       "      <td>0</td>\n",
       "    </tr>\n",
       "  </tbody>\n",
       "</table>\n",
       "<p>2 rows × 30 columns</p>\n",
       "</div>"
      ],
      "text/plain": [
       "   age  marital  education default  balance       ...        \\\n",
       "0   30  married    primary      no     1787       ...         \n",
       "1   33  married  secondary      no     4789       ...         \n",
       "\n",
       "  education_tertiary education_unknown contact_cellular  contact_telephone  \\\n",
       "0                  0                 0                1                  0   \n",
       "1                  0                 0                1                  0   \n",
       "\n",
       "  contact_unknown  \n",
       "0               0  \n",
       "1               0  \n",
       "\n",
       "[2 rows x 30 columns]"
      ]
     },
     "execution_count": 205,
     "metadata": {},
     "output_type": "execute_result"
    }
   ],
   "source": [
    "for a in ['marital','education','contact']:\n",
    "    dname = '{}{}'.format(a, '_df')\n",
    "    dname = pd.get_dummies(df[a],prefix=a)\n",
    "    df = df.join([dname])\n",
    "print df.shape\n",
    "df.head(2)"
   ]
  },
  {
   "cell_type": "markdown",
   "metadata": {},
   "source": [
    "## Question 4: What should be your baseline for these dummy variables (namely, which dummy variables should you not include in your model)?"
   ]
  },
  {
   "cell_type": "code",
   "execution_count": 217,
   "metadata": {
    "collapsed": false
   },
   "outputs": [
    {
     "name": "stdout",
     "output_type": "stream",
     "text": [
      "married     2797\n",
      "secondary   2306\n",
      "cellular    2896\n"
     ]
    }
   ],
   "source": [
    "for a in ['marital','education','contact']:\n",
    "    print '{:11} {}'.format(df[a].value_counts().idxmax(), df[a].value_counts().max())"
   ]
  },
  {
   "cell_type": "markdown",
   "metadata": {},
   "source": [
    "Answer: the dummy variables with the most frequent values: 'married','secondary','cellular'."
   ]
  },
  {
   "cell_type": "markdown",
   "metadata": {},
   "source": [
    "## Question 5: What input variable in the dataset seems to predict the outcome quite well.  Why?"
   ]
  },
  {
   "cell_type": "code",
   "execution_count": 218,
   "metadata": {
    "collapsed": false
   },
   "outputs": [
    {
     "data": {
      "text/plain": [
       "Index([u'age', u'marital', u'education', u'default', u'balance', u'housing',\n",
       "       u'loan', u'contact', u'day', u'month', u'duration', u'campaign',\n",
       "       u'pdays', u'previous', u'poutcome', u'y', u'default_no', u'housing_no',\n",
       "       u'loan_no', u'y_no', u'marital_divorced', u'marital_married',\n",
       "       u'marital_single', u'education_primary', u'education_secondary',\n",
       "       u'education_tertiary', u'education_unknown', u'contact_cellular',\n",
       "       u'contact_telephone', u'contact_unknown'],\n",
       "      dtype='object')"
      ]
     },
     "execution_count": 218,
     "metadata": {},
     "output_type": "execute_result"
    }
   ],
   "source": [
    "df.columns"
   ]
  },
  {
   "cell_type": "code",
   "execution_count": 220,
   "metadata": {
    "collapsed": false
   },
   "outputs": [],
   "source": [
    "df_sub = df.drop(['marital','education','contact','default','housing','loan','y'],axis=1)"
   ]
  },
  {
   "cell_type": "code",
   "execution_count": 221,
   "metadata": {
    "collapsed": false
   },
   "outputs": [
    {
     "data": {
      "text/plain": [
       "Index([u'age', u'balance', u'day', u'month', u'duration', u'campaign',\n",
       "       u'pdays', u'previous', u'poutcome', u'default_no', u'housing_no',\n",
       "       u'loan_no', u'y_no', u'marital_divorced', u'marital_married',\n",
       "       u'marital_single', u'education_primary', u'education_secondary',\n",
       "       u'education_tertiary', u'education_unknown', u'contact_cellular',\n",
       "       u'contact_telephone', u'contact_unknown'],\n",
       "      dtype='object')"
      ]
     },
     "execution_count": 221,
     "metadata": {},
     "output_type": "execute_result"
    }
   ],
   "source": [
    "df_sub.columns"
   ]
  },
  {
   "cell_type": "code",
   "execution_count": 229,
   "metadata": {
    "collapsed": false
   },
   "outputs": [
    {
     "data": {
      "text/plain": [
       "pandas.core.frame.DataFrame"
      ]
     },
     "execution_count": 229,
     "metadata": {},
     "output_type": "execute_result"
    }
   ],
   "source": [
    "type(df_sub.corr())"
   ]
  },
  {
   "cell_type": "code",
   "execution_count": 228,
   "metadata": {
    "collapsed": false
   },
   "outputs": [
    {
     "data": {
      "text/plain": [
       "y_no                   1.000\n",
       "duration               0.401\n",
       "contact_cellular       0.119\n",
       "previous               0.117\n",
       "housing_no             0.105\n",
       "                       ...  \n",
       "education_secondary   -0.029\n",
       "campaign              -0.061\n",
       "marital_married       -0.065\n",
       "loan_no               -0.071\n",
       "contact_unknown       -0.139\n",
       "Name: y_no, dtype: float64"
      ]
     },
     "execution_count": 228,
     "metadata": {},
     "output_type": "execute_result"
    }
   ],
   "source": [
    "df_sub.corr().round(3).y_no.sort_values(ascending=False)"
   ]
  },
  {
   "cell_type": "markdown",
   "metadata": {},
   "source": [
    "Answer:  \n",
    "* duration\n",
    "* but duration needs to be dropped. "
   ]
  },
  {
   "cell_type": "code",
   "execution_count": 231,
   "metadata": {
    "collapsed": false
   },
   "outputs": [
    {
     "data": {
      "text/html": [
       "<div>\n",
       "<table border=\"1\" class=\"dataframe\">\n",
       "  <thead>\n",
       "    <tr style=\"text-align: right;\">\n",
       "      <th></th>\n",
       "      <th>age</th>\n",
       "      <th>balance</th>\n",
       "      <th>day</th>\n",
       "      <th>month</th>\n",
       "      <th>campaign</th>\n",
       "      <th>...</th>\n",
       "      <th>education_tertiary</th>\n",
       "      <th>education_unknown</th>\n",
       "      <th>contact_cellular</th>\n",
       "      <th>contact_telephone</th>\n",
       "      <th>contact_unknown</th>\n",
       "    </tr>\n",
       "  </thead>\n",
       "  <tbody>\n",
       "    <tr>\n",
       "      <th>0</th>\n",
       "      <td>30</td>\n",
       "      <td>1787</td>\n",
       "      <td>19</td>\n",
       "      <td>oct</td>\n",
       "      <td>1</td>\n",
       "      <td>...</td>\n",
       "      <td>0</td>\n",
       "      <td>0</td>\n",
       "      <td>1</td>\n",
       "      <td>0</td>\n",
       "      <td>0</td>\n",
       "    </tr>\n",
       "    <tr>\n",
       "      <th>1</th>\n",
       "      <td>33</td>\n",
       "      <td>4789</td>\n",
       "      <td>11</td>\n",
       "      <td>may</td>\n",
       "      <td>1</td>\n",
       "      <td>...</td>\n",
       "      <td>0</td>\n",
       "      <td>0</td>\n",
       "      <td>1</td>\n",
       "      <td>0</td>\n",
       "      <td>0</td>\n",
       "    </tr>\n",
       "    <tr>\n",
       "      <th>2</th>\n",
       "      <td>35</td>\n",
       "      <td>1350</td>\n",
       "      <td>16</td>\n",
       "      <td>apr</td>\n",
       "      <td>1</td>\n",
       "      <td>...</td>\n",
       "      <td>1</td>\n",
       "      <td>0</td>\n",
       "      <td>1</td>\n",
       "      <td>0</td>\n",
       "      <td>0</td>\n",
       "    </tr>\n",
       "    <tr>\n",
       "      <th>3</th>\n",
       "      <td>30</td>\n",
       "      <td>1476</td>\n",
       "      <td>3</td>\n",
       "      <td>jun</td>\n",
       "      <td>4</td>\n",
       "      <td>...</td>\n",
       "      <td>1</td>\n",
       "      <td>0</td>\n",
       "      <td>0</td>\n",
       "      <td>0</td>\n",
       "      <td>1</td>\n",
       "    </tr>\n",
       "    <tr>\n",
       "      <th>4</th>\n",
       "      <td>59</td>\n",
       "      <td>0</td>\n",
       "      <td>5</td>\n",
       "      <td>may</td>\n",
       "      <td>1</td>\n",
       "      <td>...</td>\n",
       "      <td>0</td>\n",
       "      <td>0</td>\n",
       "      <td>0</td>\n",
       "      <td>0</td>\n",
       "      <td>1</td>\n",
       "    </tr>\n",
       "    <tr>\n",
       "      <th>...</th>\n",
       "      <td>...</td>\n",
       "      <td>...</td>\n",
       "      <td>...</td>\n",
       "      <td>...</td>\n",
       "      <td>...</td>\n",
       "      <td>...</td>\n",
       "      <td>...</td>\n",
       "      <td>...</td>\n",
       "      <td>...</td>\n",
       "      <td>...</td>\n",
       "      <td>...</td>\n",
       "    </tr>\n",
       "    <tr>\n",
       "      <th>4516</th>\n",
       "      <td>33</td>\n",
       "      <td>-333</td>\n",
       "      <td>30</td>\n",
       "      <td>jul</td>\n",
       "      <td>5</td>\n",
       "      <td>...</td>\n",
       "      <td>0</td>\n",
       "      <td>0</td>\n",
       "      <td>1</td>\n",
       "      <td>0</td>\n",
       "      <td>0</td>\n",
       "    </tr>\n",
       "    <tr>\n",
       "      <th>4517</th>\n",
       "      <td>57</td>\n",
       "      <td>-3313</td>\n",
       "      <td>9</td>\n",
       "      <td>may</td>\n",
       "      <td>1</td>\n",
       "      <td>...</td>\n",
       "      <td>1</td>\n",
       "      <td>0</td>\n",
       "      <td>0</td>\n",
       "      <td>0</td>\n",
       "      <td>1</td>\n",
       "    </tr>\n",
       "    <tr>\n",
       "      <th>4518</th>\n",
       "      <td>57</td>\n",
       "      <td>295</td>\n",
       "      <td>19</td>\n",
       "      <td>aug</td>\n",
       "      <td>11</td>\n",
       "      <td>...</td>\n",
       "      <td>0</td>\n",
       "      <td>0</td>\n",
       "      <td>1</td>\n",
       "      <td>0</td>\n",
       "      <td>0</td>\n",
       "    </tr>\n",
       "    <tr>\n",
       "      <th>4519</th>\n",
       "      <td>28</td>\n",
       "      <td>1137</td>\n",
       "      <td>6</td>\n",
       "      <td>feb</td>\n",
       "      <td>4</td>\n",
       "      <td>...</td>\n",
       "      <td>0</td>\n",
       "      <td>0</td>\n",
       "      <td>1</td>\n",
       "      <td>0</td>\n",
       "      <td>0</td>\n",
       "    </tr>\n",
       "    <tr>\n",
       "      <th>4520</th>\n",
       "      <td>44</td>\n",
       "      <td>1136</td>\n",
       "      <td>3</td>\n",
       "      <td>apr</td>\n",
       "      <td>2</td>\n",
       "      <td>...</td>\n",
       "      <td>1</td>\n",
       "      <td>0</td>\n",
       "      <td>1</td>\n",
       "      <td>0</td>\n",
       "      <td>0</td>\n",
       "    </tr>\n",
       "  </tbody>\n",
       "</table>\n",
       "<p>4521 rows × 22 columns</p>\n",
       "</div>"
      ],
      "text/plain": [
       "      age  balance  day month  campaign       ...         education_tertiary  \\\n",
       "0      30     1787   19   oct         1       ...                          0   \n",
       "1      33     4789   11   may         1       ...                          0   \n",
       "2      35     1350   16   apr         1       ...                          1   \n",
       "3      30     1476    3   jun         4       ...                          1   \n",
       "4      59        0    5   may         1       ...                          0   \n",
       "...   ...      ...  ...   ...       ...       ...                        ...   \n",
       "4516   33     -333   30   jul         5       ...                          0   \n",
       "4517   57    -3313    9   may         1       ...                          1   \n",
       "4518   57      295   19   aug        11       ...                          0   \n",
       "4519   28     1137    6   feb         4       ...                          0   \n",
       "4520   44     1136    3   apr         2       ...                          1   \n",
       "\n",
       "      education_unknown contact_cellular  contact_telephone  contact_unknown  \n",
       "0                     0                1                  0                0  \n",
       "1                     0                1                  0                0  \n",
       "2                     0                1                  0                0  \n",
       "3                     0                0                  0                1  \n",
       "4                     0                0                  0                1  \n",
       "...                 ...              ...                ...              ...  \n",
       "4516                  0                1                  0                0  \n",
       "4517                  0                0                  0                1  \n",
       "4518                  0                1                  0                0  \n",
       "4519                  0                1                  0                0  \n",
       "4520                  0                1                  0                0  \n",
       "\n",
       "[4521 rows x 22 columns]"
      ]
     },
     "execution_count": 231,
     "metadata": {},
     "output_type": "execute_result"
    }
   ],
   "source": [
    "df_sub.drop(['duration'],axis=1)"
   ]
  },
  {
   "cell_type": "markdown",
   "metadata": {},
   "source": [
    "## Question 6: Split the dataset into a training set (60%) and a testing set (the rest)"
   ]
  },
  {
   "cell_type": "markdown",
   "metadata": {},
   "source": [
    "Select rows:\n"
   ]
  },
  {
   "cell_type": "code",
   "execution_count": 238,
   "metadata": {
    "collapsed": false
   },
   "outputs": [
    {
     "data": {
      "text/html": [
       "<div>\n",
       "<table border=\"1\" class=\"dataframe\">\n",
       "  <thead>\n",
       "    <tr style=\"text-align: right;\">\n",
       "      <th></th>\n",
       "      <th>age</th>\n",
       "      <th>balance</th>\n",
       "      <th>day</th>\n",
       "      <th>month</th>\n",
       "      <th>duration</th>\n",
       "      <th>...</th>\n",
       "      <th>education_tertiary</th>\n",
       "      <th>education_unknown</th>\n",
       "      <th>contact_cellular</th>\n",
       "      <th>contact_telephone</th>\n",
       "      <th>contact_unknown</th>\n",
       "    </tr>\n",
       "  </thead>\n",
       "  <tbody>\n",
       "    <tr>\n",
       "      <th>4274</th>\n",
       "      <td>35</td>\n",
       "      <td>378</td>\n",
       "      <td>16</td>\n",
       "      <td>may</td>\n",
       "      <td>427</td>\n",
       "      <td>...</td>\n",
       "      <td>0</td>\n",
       "      <td>0</td>\n",
       "      <td>0</td>\n",
       "      <td>0</td>\n",
       "      <td>1</td>\n",
       "    </tr>\n",
       "    <tr>\n",
       "      <th>72</th>\n",
       "      <td>31</td>\n",
       "      <td>6248</td>\n",
       "      <td>9</td>\n",
       "      <td>may</td>\n",
       "      <td>154</td>\n",
       "      <td>...</td>\n",
       "      <td>1</td>\n",
       "      <td>0</td>\n",
       "      <td>0</td>\n",
       "      <td>0</td>\n",
       "      <td>1</td>\n",
       "    </tr>\n",
       "    <tr>\n",
       "      <th>1065</th>\n",
       "      <td>30</td>\n",
       "      <td>0</td>\n",
       "      <td>18</td>\n",
       "      <td>nov</td>\n",
       "      <td>756</td>\n",
       "      <td>...</td>\n",
       "      <td>1</td>\n",
       "      <td>0</td>\n",
       "      <td>1</td>\n",
       "      <td>0</td>\n",
       "      <td>0</td>\n",
       "    </tr>\n",
       "    <tr>\n",
       "      <th>3185</th>\n",
       "      <td>42</td>\n",
       "      <td>529</td>\n",
       "      <td>19</td>\n",
       "      <td>nov</td>\n",
       "      <td>193</td>\n",
       "      <td>...</td>\n",
       "      <td>0</td>\n",
       "      <td>0</td>\n",
       "      <td>1</td>\n",
       "      <td>0</td>\n",
       "      <td>0</td>\n",
       "    </tr>\n",
       "    <tr>\n",
       "      <th>130</th>\n",
       "      <td>41</td>\n",
       "      <td>168</td>\n",
       "      <td>18</td>\n",
       "      <td>nov</td>\n",
       "      <td>187</td>\n",
       "      <td>...</td>\n",
       "      <td>0</td>\n",
       "      <td>0</td>\n",
       "      <td>1</td>\n",
       "      <td>0</td>\n",
       "      <td>0</td>\n",
       "    </tr>\n",
       "    <tr>\n",
       "      <th>...</th>\n",
       "      <td>...</td>\n",
       "      <td>...</td>\n",
       "      <td>...</td>\n",
       "      <td>...</td>\n",
       "      <td>...</td>\n",
       "      <td>...</td>\n",
       "      <td>...</td>\n",
       "      <td>...</td>\n",
       "      <td>...</td>\n",
       "      <td>...</td>\n",
       "      <td>...</td>\n",
       "    </tr>\n",
       "    <tr>\n",
       "      <th>1817</th>\n",
       "      <td>27</td>\n",
       "      <td>2171</td>\n",
       "      <td>16</td>\n",
       "      <td>apr</td>\n",
       "      <td>130</td>\n",
       "      <td>...</td>\n",
       "      <td>0</td>\n",
       "      <td>0</td>\n",
       "      <td>1</td>\n",
       "      <td>0</td>\n",
       "      <td>0</td>\n",
       "    </tr>\n",
       "    <tr>\n",
       "      <th>2642</th>\n",
       "      <td>46</td>\n",
       "      <td>143</td>\n",
       "      <td>7</td>\n",
       "      <td>may</td>\n",
       "      <td>279</td>\n",
       "      <td>...</td>\n",
       "      <td>0</td>\n",
       "      <td>0</td>\n",
       "      <td>0</td>\n",
       "      <td>0</td>\n",
       "      <td>1</td>\n",
       "    </tr>\n",
       "    <tr>\n",
       "      <th>3302</th>\n",
       "      <td>33</td>\n",
       "      <td>0</td>\n",
       "      <td>19</td>\n",
       "      <td>aug</td>\n",
       "      <td>275</td>\n",
       "      <td>...</td>\n",
       "      <td>1</td>\n",
       "      <td>0</td>\n",
       "      <td>1</td>\n",
       "      <td>0</td>\n",
       "      <td>0</td>\n",
       "    </tr>\n",
       "    <tr>\n",
       "      <th>1993</th>\n",
       "      <td>40</td>\n",
       "      <td>419</td>\n",
       "      <td>10</td>\n",
       "      <td>jul</td>\n",
       "      <td>347</td>\n",
       "      <td>...</td>\n",
       "      <td>0</td>\n",
       "      <td>1</td>\n",
       "      <td>1</td>\n",
       "      <td>0</td>\n",
       "      <td>0</td>\n",
       "    </tr>\n",
       "    <tr>\n",
       "      <th>310</th>\n",
       "      <td>49</td>\n",
       "      <td>8545</td>\n",
       "      <td>6</td>\n",
       "      <td>may</td>\n",
       "      <td>199</td>\n",
       "      <td>...</td>\n",
       "      <td>0</td>\n",
       "      <td>0</td>\n",
       "      <td>1</td>\n",
       "      <td>0</td>\n",
       "      <td>0</td>\n",
       "    </tr>\n",
       "  </tbody>\n",
       "</table>\n",
       "<p>2713 rows × 23 columns</p>\n",
       "</div>"
      ],
      "text/plain": [
       "      age  balance  day month  duration       ...         education_tertiary  \\\n",
       "4274   35      378   16   may       427       ...                          0   \n",
       "72     31     6248    9   may       154       ...                          1   \n",
       "1065   30        0   18   nov       756       ...                          1   \n",
       "3185   42      529   19   nov       193       ...                          0   \n",
       "130    41      168   18   nov       187       ...                          0   \n",
       "...   ...      ...  ...   ...       ...       ...                        ...   \n",
       "1817   27     2171   16   apr       130       ...                          0   \n",
       "2642   46      143    7   may       279       ...                          0   \n",
       "3302   33        0   19   aug       275       ...                          1   \n",
       "1993   40      419   10   jul       347       ...                          0   \n",
       "310    49     8545    6   may       199       ...                          0   \n",
       "\n",
       "      education_unknown  contact_cellular contact_telephone  contact_unknown  \n",
       "4274                  0                 0                 0                1  \n",
       "72                    0                 0                 0                1  \n",
       "1065                  0                 1                 0                0  \n",
       "3185                  0                 1                 0                0  \n",
       "130                   0                 1                 0                0  \n",
       "...                 ...               ...               ...              ...  \n",
       "1817                  0                 1                 0                0  \n",
       "2642                  0                 0                 0                1  \n",
       "3302                  0                 1                 0                0  \n",
       "1993                  1                 1                 0                0  \n",
       "310                   0                 1                 0                0  \n",
       "\n",
       "[2713 rows x 23 columns]"
      ]
     },
     "execution_count": 238,
     "metadata": {},
     "output_type": "execute_result"
    }
   ],
   "source": [
    "pd.DataFrame(df_sub,index = train_df.index)"
   ]
  },
  {
   "cell_type": "code",
   "execution_count": 240,
   "metadata": {
    "collapsed": false
   },
   "outputs": [
    {
     "name": "stdout",
     "output_type": "stream",
     "text": [
      "(2713, 23)\n",
      "(1808, 23)\n",
      "(4521, 23)\n"
     ]
    }
   ],
   "source": [
    "train_df = df_sub.sample(frac=0.6,random_state=0)\n",
    "test_df = df_sub.drop(train_df.index)\n",
    "print train_df.shape\n",
    "print test_df.shape\n",
    "print df_sub.shape"
   ]
  },
  {
   "cell_type": "markdown",
   "metadata": {},
   "source": [
    "## Question 7: Run a logistic regression with `age`, `marital` (the dummies), `default`, `balance`, `housing`, `loan`, `campaign`, `pdays`, `previous`?"
   ]
  },
  {
   "cell_type": "code",
   "execution_count": 241,
   "metadata": {
    "collapsed": false
   },
   "outputs": [
    {
     "data": {
      "text/plain": [
       "Index([u'age', u'balance', u'day', u'month', u'duration', u'campaign',\n",
       "       u'pdays', u'previous', u'poutcome', u'default_no', u'housing_no',\n",
       "       u'loan_no', u'y_no', u'marital_divorced', u'marital_married',\n",
       "       u'marital_single', u'education_primary', u'education_secondary',\n",
       "       u'education_tertiary', u'education_unknown', u'contact_cellular',\n",
       "       u'contact_telephone', u'contact_unknown'],\n",
       "      dtype='object')"
      ]
     },
     "execution_count": 241,
     "metadata": {},
     "output_type": "execute_result"
    }
   ],
   "source": [
    "train_df.columns"
   ]
  },
  {
   "cell_type": "code",
   "execution_count": 247,
   "metadata": {
    "collapsed": false
   },
   "outputs": [
    {
     "name": "stdout",
     "output_type": "stream",
     "text": [
      "intercept       = [-1.93542722]\n",
      "coefficients    = [[ -7.53741230e-03   3.69160228e-01   1.52130498e-01  -3.23247762e-02\n",
      "    2.16213443e-05   6.48267864e-01  -7.87861914e-01  -8.36341009e-02\n",
      "    1.42226580e-03   7.97422486e-02]]\n",
      "misspecification error    = 0.883155178769\n",
      "\n",
      "\n",
      "intercept       = [-2.37239973]\n",
      "coefficients    = [[  5.29816404e-03   2.75299148e-01   2.03505430e-01   2.69170149e-01\n",
      "   -1.88713922e-05   6.24587269e-01  -6.57745254e-01  -1.58926497e-01\n",
      "    2.11037607e-03   1.20111070e-01]]\n",
      "misspecification error    = 0.885508849558\n",
      "\n",
      "\n"
     ]
    }
   ],
   "source": [
    "from sklearn import linear_model\n",
    "\n",
    "for a in [train_df, test_df]:\n",
    "    X = a[['age','marital_divorced','marital_single','default_no','balance','housing_no','loan_no','campaign','pdays','previous']]\n",
    "    y = a['y_no']\n",
    "    model = linear_model.LogisticRegression()\n",
    "    model.fit(X,y)\n",
    "    print 'intercept       =', model.intercept_\n",
    "    print 'coefficients    =', model.coef_\n",
    "    print 'misspecification error    =', model.score(X,y)\n",
    "    print '\\n'"
   ]
  },
  {
   "cell_type": "markdown",
   "metadata": {},
   "source": [
    "## Question 8: What is your training error?  What is your generalization error?  Does it make sense?"
   ]
  },
  {
   "cell_type": "markdown",
   "metadata": {
    "collapsed": false
   },
   "source": [
    "The misspecification error of the model on training set is lower that that of test set. "
   ]
  },
  {
   "cell_type": "markdown",
   "metadata": {},
   "source": [
    "## Question 9: Interpret your coefficients. (At least `marital_single`, `campaign`, and `default`).  Does your interpretation  make sense?"
   ]
  },
  {
   "cell_type": "code",
   "execution_count": 252,
   "metadata": {
    "collapsed": false
   },
   "outputs": [
    {
     "data": {
      "text/plain": [
       "array([ 1.00531222,  1.31692457,  1.22569181,  1.30887783,  0.99998113,\n",
       "        1.86747503,  0.51801802,  0.85305906,  1.0021126 ,  1.12762209])"
      ]
     },
     "execution_count": 252,
     "metadata": {},
     "output_type": "execute_result"
    }
   ],
   "source": [
    "np.exp(model.coef_[0])"
   ]
  },
  {
   "cell_type": "code",
   "execution_count": 259,
   "metadata": {
    "collapsed": false
   },
   "outputs": [
    {
     "name": "stdout",
     "output_type": "stream",
     "text": [
      "age                  0.00531222413557\n",
      "marital_divorced     0.316924571363\n",
      "marital_single       0.225691813453\n",
      "default_no           0.308877826418\n",
      "balance              -1.8871214153e-05\n",
      "housing_no           0.867475033715\n",
      "loan_no              -0.481981982489\n",
      "campaign             -0.146940941326\n",
      "pdays                0.00211260448051\n",
      "previous             0.127622089841\n"
     ]
    }
   ],
   "source": [
    "for (a,b) in zip(X.columns,np.exp(model.coef_[0]) - 1):\n",
    "    print '{:20} {}'.format(a,b)"
   ]
  },
  {
   "cell_type": "markdown",
   "metadata": {},
   "source": [
    "Answer:"
   ]
  },
  {
   "cell_type": "markdown",
   "metadata": {},
   "source": [
    "## Question 10: What is your prediction for a 30 years old single female, a homeowner with a \\$1,000 balance in the bank, without a loan, who has never been contacted before, and who has never defaulted."
   ]
  },
  {
   "cell_type": "code",
   "execution_count": 262,
   "metadata": {
    "collapsed": false
   },
   "outputs": [
    {
     "name": "stdout",
     "output_type": "stream",
     "text": [
      "[1]\n",
      "[[ 0.44343007  0.55656993]]\n"
     ]
    },
    {
     "name": "stderr",
     "output_type": "stream",
     "text": [
      "/Users/ruijiao.guo/anaconda/envs/py27/lib/python2.7/site-packages/sklearn/utils/validation.py:386: DeprecationWarning: Passing 1d arrays as data is deprecated in 0.17 and willraise ValueError in 0.19. Reshape your data either using X.reshape(-1, 1) if your data has a single feature or X.reshape(1, -1) if it contains a single sample.\n",
      "  DeprecationWarning)\n",
      "/Users/ruijiao.guo/anaconda/envs/py27/lib/python2.7/site-packages/sklearn/utils/validation.py:386: DeprecationWarning: Passing 1d arrays as data is deprecated in 0.17 and willraise ValueError in 0.19. Reshape your data either using X.reshape(-1, 1) if your data has a single feature or X.reshape(1, -1) if it contains a single sample.\n",
      "  DeprecationWarning)\n"
     ]
    }
   ],
   "source": [
    "x = [30, 0, 1, 0, 1000, 1, 0, 3, 999, 0]\n",
    "print model.predict(x)\n",
    "print model.predict_proba(x)"
   ]
  },
  {
   "cell_type": "markdown",
   "metadata": {},
   "source": [
    "Answer:"
   ]
  },
  {
   "cell_type": "markdown",
   "metadata": {},
   "source": [
    "## Question 11: Normalize your variables.  (You can reuse the function from the previous lab)"
   ]
  },
  {
   "cell_type": "code",
   "execution_count": 264,
   "metadata": {
    "collapsed": false
   },
   "outputs": [],
   "source": [
    "def normalize(x):\n",
    "    x_min = x.min()\n",
    "    x_max = x.max()\n",
    "    x_norm = (x - x_min)/(x_max - x_min)\n",
    "    return x_norm\n",
    "\n",
    "names_X = ['age', 'marital_single', 'marital_divorced',\n",
    "    'default_no', 'balance', 'housing_no',\n",
    "    'loan_no', 'campaign', 'pdays', 'previous']\n",
    "\n",
    "train_df[ names_X ] = train_df[ names_X ].apply(normalize)"
   ]
  },
  {
   "cell_type": "markdown",
   "metadata": {},
   "source": [
    "## Question 12: Let's do some regularization.  Use 10-fold cross validation to find the best tuning parameter `c`"
   ]
  },
  {
   "cell_type": "markdown",
   "metadata": {},
   "source": [
    "(Hint: check the documentation here: http://scikit-learn.org/stable/modules/generated/sklearn.linear_model.LogisticRegression.html#sklearn.linear_model.LogisticRegression)"
   ]
  },
  {
   "cell_type": "markdown",
   "metadata": {},
   "source": [
    "Note: `c` is just the inverse of $\\lambda$ - the smaller $c$, the stronger the regularization. The smaller values choose less variables"
   ]
  },
  {
   "cell_type": "markdown",
   "metadata": {},
   "source": [
    "(Hint 2: First try c = 10 ^ i with i = -10 ... 10)"
   ]
  },
  {
   "cell_type": "code",
   "execution_count": 269,
   "metadata": {
    "collapsed": false
   },
   "outputs": [
    {
     "name": "stdout",
     "output_type": "stream",
     "text": [
      "    index             c\n",
      "0     -10  1.000000e-10\n",
      "1      -9  1.000000e-09\n",
      "2      -8  1.000000e-08\n",
      "3      -7  1.000000e-07\n",
      "4      -6  1.000000e-06\n",
      "..    ...           ...\n",
      "16      6  1.000000e+06\n",
      "17      7  1.000000e+07\n",
      "18      8  1.000000e+08\n",
      "19      9  1.000000e+09\n",
      "20     10  1.000000e+10\n",
      "\n",
      "[21 rows x 2 columns]\n"
     ]
    }
   ],
   "source": [
    "c_df = pd.DataFrame({'index': np.linspace(-10, 10, 21)})\n",
    "# print c_df\n",
    "c_df['c'] = c_df['index'].apply(lambda index: 10 ** index)\n",
    "print c_df"
   ]
  },
  {
   "cell_type": "code",
   "execution_count": 273,
   "metadata": {
    "collapsed": false
   },
   "outputs": [],
   "source": [
    "X = train_df[names_X]\n",
    "y = train_df['y_no']\n",
    "def optimize_c(c):\n",
    "    model = linear_model.LogisticRegression(C=c)\n",
    "    return cross_validation.cross_val_score(model,X,y,cv=10).mean()\n",
    "\n",
    "c_df['score'] = c_df['c'].apply(optimize_c)"
   ]
  },
  {
   "cell_type": "code",
   "execution_count": 274,
   "metadata": {
    "collapsed": false
   },
   "outputs": [
    {
     "data": {
      "text/html": [
       "<div>\n",
       "<table border=\"1\" class=\"dataframe\">\n",
       "  <thead>\n",
       "    <tr style=\"text-align: right;\">\n",
       "      <th></th>\n",
       "      <th>index</th>\n",
       "      <th>c</th>\n",
       "      <th>score</th>\n",
       "    </tr>\n",
       "  </thead>\n",
       "  <tbody>\n",
       "    <tr>\n",
       "      <th>0</th>\n",
       "      <td>-10</td>\n",
       "      <td>1.000000e-10</td>\n",
       "      <td>0.883896</td>\n",
       "    </tr>\n",
       "    <tr>\n",
       "      <th>1</th>\n",
       "      <td>-9</td>\n",
       "      <td>1.000000e-09</td>\n",
       "      <td>0.883896</td>\n",
       "    </tr>\n",
       "    <tr>\n",
       "      <th>2</th>\n",
       "      <td>-8</td>\n",
       "      <td>1.000000e-08</td>\n",
       "      <td>0.883896</td>\n",
       "    </tr>\n",
       "    <tr>\n",
       "      <th>3</th>\n",
       "      <td>-7</td>\n",
       "      <td>1.000000e-07</td>\n",
       "      <td>0.883896</td>\n",
       "    </tr>\n",
       "    <tr>\n",
       "      <th>4</th>\n",
       "      <td>-6</td>\n",
       "      <td>1.000000e-06</td>\n",
       "      <td>0.883896</td>\n",
       "    </tr>\n",
       "    <tr>\n",
       "      <th>...</th>\n",
       "      <td>...</td>\n",
       "      <td>...</td>\n",
       "      <td>...</td>\n",
       "    </tr>\n",
       "    <tr>\n",
       "      <th>16</th>\n",
       "      <td>6</td>\n",
       "      <td>1.000000e+06</td>\n",
       "      <td>0.882789</td>\n",
       "    </tr>\n",
       "    <tr>\n",
       "      <th>17</th>\n",
       "      <td>7</td>\n",
       "      <td>1.000000e+07</td>\n",
       "      <td>0.882789</td>\n",
       "    </tr>\n",
       "    <tr>\n",
       "      <th>18</th>\n",
       "      <td>8</td>\n",
       "      <td>1.000000e+08</td>\n",
       "      <td>0.882789</td>\n",
       "    </tr>\n",
       "    <tr>\n",
       "      <th>19</th>\n",
       "      <td>9</td>\n",
       "      <td>1.000000e+09</td>\n",
       "      <td>0.882789</td>\n",
       "    </tr>\n",
       "    <tr>\n",
       "      <th>20</th>\n",
       "      <td>10</td>\n",
       "      <td>1.000000e+10</td>\n",
       "      <td>0.882789</td>\n",
       "    </tr>\n",
       "  </tbody>\n",
       "</table>\n",
       "<p>21 rows × 3 columns</p>\n",
       "</div>"
      ],
      "text/plain": [
       "    index             c     score\n",
       "0     -10  1.000000e-10  0.883896\n",
       "1      -9  1.000000e-09  0.883896\n",
       "2      -8  1.000000e-08  0.883896\n",
       "3      -7  1.000000e-07  0.883896\n",
       "4      -6  1.000000e-06  0.883896\n",
       "..    ...           ...       ...\n",
       "16      6  1.000000e+06  0.882789\n",
       "17      7  1.000000e+07  0.882789\n",
       "18      8  1.000000e+08  0.882789\n",
       "19      9  1.000000e+09  0.882789\n",
       "20     10  1.000000e+10  0.882789\n",
       "\n",
       "[21 rows x 3 columns]"
      ]
     },
     "execution_count": 274,
     "metadata": {},
     "output_type": "execute_result"
    }
   ],
   "source": [
    "c_df"
   ]
  },
  {
   "cell_type": "markdown",
   "metadata": {},
   "source": [
    "Answer:"
   ]
  },
  {
   "cell_type": "markdown",
   "metadata": {},
   "source": [
    "## Question 13: Now use the best `c` you found above and repeat your analysis; look over your coefficients"
   ]
  },
  {
   "cell_type": "code",
   "execution_count": 276,
   "metadata": {
    "collapsed": false
   },
   "outputs": [
    {
     "data": {
      "text/plain": [
       "<matplotlib.axes._subplots.AxesSubplot at 0x11839b1d0>"
      ]
     },
     "execution_count": 276,
     "metadata": {},
     "output_type": "execute_result"
    },
    {
     "data": {
      "image/png": "[encoded data removed]",
      "text/plain": [
       "<matplotlib.figure.Figure at 0x1187b8690>"
      ]
     },
     "metadata": {},
     "output_type": "display_data"
    }
   ],
   "source": [
    "c_df.set_index('index').score.plot()"
   ]
  },
  {
   "cell_type": "code",
   "execution_count": null,
   "metadata": {
    "collapsed": true
   },
   "outputs": [],
   "source": []
  },
  {
   "cell_type": "markdown",
   "metadata": {},
   "source": [
    "## Question 14: If you want to drop 3 variables from your analysis, which variables will you choose?"
   ]
  },
  {
   "cell_type": "code",
   "execution_count": null,
   "metadata": {
    "collapsed": false
   },
   "outputs": [],
   "source": []
  },
  {
   "cell_type": "markdown",
   "metadata": {},
   "source": [
    "Answer:"
   ]
  }
 ],
 "metadata": {
  "kernelspec": {
   "display_name": "Python 2",
   "language": "python",
   "name": "python2"
  },
  "language_info": {
   "codemirror_mode": {
    "name": "ipython",
    "version": 2
   },
   "file_extension": ".py",
   "mimetype": "text/x-python",
   "name": "python",
   "nbconvert_exporter": "python",
   "pygments_lexer": "ipython2",
   "version": "2.7.11"
  }
 },
 "nbformat": 4,
 "nbformat_minor": 0
}
