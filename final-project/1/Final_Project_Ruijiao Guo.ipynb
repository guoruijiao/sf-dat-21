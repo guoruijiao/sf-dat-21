{
 "cells": [
  {
   "cell_type": "markdown",
   "metadata": {},
   "source": [
    "- **Requirements:** You should present from a prepared deck that explains the following:\n",
    "  - ___The Problem___: What's the background and scope of the project idea? What problem are you attempting to address or solve? Who may it matter to?\n",
    "  - ___The Data___: What data exists to help solve this problem? Where is it coming from? What does the data look like? What is the observation?\n",
    "  - ___Your Hypotheses___: Given the problem and data you're aware of, what do you believe is the solution? What does success look like?\n",
    "\n",
    "- **Detailed Breakdown:** Your presentation must:\n",
    "  - Explain three potential projects, including: a problem statement, a hypothesis, and potential data sets.\n",
    "  - Be 2 minutes in duration.\n",
    "  - Demonstrate familiarity with the domain of the data.\n",
    "\n",
    "- **Bonus:**\n",
    "  - High level data points can help show the \"improvement\" scope that's available.\n",
    "  - Cite similar/previous work that will better inform your strategy that can be taken."
   ]
  },
  {
   "cell_type": "markdown",
   "metadata": {},
   "source": [
    "## Final Project Proposal:\n",
    "* Problem Statement:  \n",
    "    (1) Explore the effects of movie attributes on user ratings using regression.    \n",
    "    (2) Use naive bayes to classify movie reviews based on sentiment.   \n",
    "    (3) Classify movies based on movie attributes using k-means clustering.   \n",
    "* Hypothesis:  \n",
    "    (1) Budget, Opening Gross Box Office, Days-in-Release, and Number-of-Screens will have positive effects on average user ratings.  \n",
    "    (2) I want to predict whether a review is negative or positive given only the review text.   \n",
    "    (3) I'd like to classify movies based on movie attributes using k-means clustering. I wonder if clusters based on these attributes would be the same as genre clusters. \n",
    "* Potential Dataset\n",
    "    * 166 movies released in 2000\n",
    "    * The data was collected in Oct, 2012. \n",
    "        * Movie attributes were collected from IMDb.com and Boxofficemojo:\n",
    "            * Title\n",
    "            * Release Date\n",
    "            * Budget\n",
    "            * Gross Box Office \n",
    "            * Runtime \n",
    "            * Opening Gross Box Office\n",
    "            * Total Votes\n",
    "            * Total Number of Reviews, Review Text, Review Date\n",
    "            * Days in Release\n",
    "            * Number of Screens\n",
    "            * Genre\n",
    "            * Distributor\n",
    "            * User Ratings and Rating Date"
   ]
  }
 ],
 "metadata": {
  "kernelspec": {
   "display_name": "Python 2",
   "language": "python",
   "name": "python2"
  },
  "language_info": {
   "codemirror_mode": {
    "name": "ipython",
    "version": 2
   },
   "file_extension": ".py",
   "mimetype": "text/x-python",
   "name": "python",
   "nbconvert_exporter": "python",
   "pygments_lexer": "ipython2",
   "version": "2.7.11"
  }
 },
 "nbformat": 4,
 "nbformat_minor": 0
}
